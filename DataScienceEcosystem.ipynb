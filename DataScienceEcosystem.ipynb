{
 "cells": [
  {
   "cell_type": "markdown",
   "id": "573e1c37-29bc-4ebf-a52f-40fad08560ef",
   "metadata": {},
   "source": [
    "# Data Science Tools and Ecosystem"
   ]
  },
  {
   "cell_type": "markdown",
   "id": "e395fedd-8dc3-40a3-bb45-2fe87d3089ac",
   "metadata": {},
   "source": [
    "#### This notebook provides an overview of the essential tools and ecosystem within the realm of data science."
   ]
  },
  {
   "cell_type": "markdown",
   "id": "93dc4d6f-0d3e-4a3c-beb5-de077229af13",
   "metadata": {},
   "source": [
    "__Objectives:__\n",
    "- List popular languages used in Data Science\n",
    "- List commonly used libararies used in Data Science\n",
    "- List popular open source development environments utilized in Data Science\n",
    "- Cover few example evaluating basic arithmetic expressions in Python"
   ]
  },
  {
   "cell_type": "markdown",
   "id": "ae8c764a-7d63-439a-861a-6dab1bbe7995",
   "metadata": {},
   "source": [
    "##### Some of the popular languages that Data Scientists use are:\n",
    "1. Python\n",
    "2. SQL\n",
    "3. R"
   ]
  },
  {
   "cell_type": "markdown",
   "id": "91fad10e-6388-475c-8880-cd3dd8ed004a",
   "metadata": {
    "tags": []
   },
   "source": [
    "##### Some of the commonly used libraries used by Data Scientists include:\n",
    "1. NumPy\n",
    "2. Matplotlib\n",
    "3. Seaborn\n",
    "4. TensorFlow"
   ]
  },
  {
   "cell_type": "markdown",
   "id": "d451e393-dbca-4eb2-ac4b-ad05ca34a1e0",
   "metadata": {},
   "source": [
    "|Data Science Tools|\n",
    "|-------------------|\n",
    "|Jupyter Notebooks|\n",
    "|RStudio|\n",
    "|VS Code|"
   ]
  },
  {
   "cell_type": "markdown",
   "id": "9658a033-e716-4434-8629-eff7414550c1",
   "metadata": {},
   "source": [
    "### Below are a few examples of evaluating arithmetic expressions in Python.\n"
   ]
  },
  {
   "cell_type": "code",
   "execution_count": 2,
   "id": "26e92cbc-279e-4fc8-a7fc-a3dc9651e357",
   "metadata": {
    "tags": []
   },
   "outputs": [
    {
     "name": "stdout",
     "output_type": "stream",
     "text": [
      "17\n"
     ]
    }
   ],
   "source": [
    "#This a simple arithmetic expression to mutiply then add integers\n",
    "M = (3*4)+5\n",
    "print(M)"
   ]
  },
  {
   "cell_type": "code",
   "execution_count": 3,
   "id": "edc9d154-ebdf-4b44-9cd8-e2c33438920e",
   "metadata": {
    "tags": []
   },
   "outputs": [
    {
     "name": "stdout",
     "output_type": "stream",
     "text": [
      "3.3333333333333335\n"
     ]
    }
   ],
   "source": [
    "#This will convert 200 minutes to hours by diving by 60\n",
    "H = 200/60\n",
    "print(H)"
   ]
  },
  {
   "cell_type": "markdown",
   "id": "985cd1b4-3bb9-4488-83f1-e211af9d9507",
   "metadata": {},
   "source": [
    "## Author\n",
    "Hartejh Surikapuram"
   ]
  },
  {
   "cell_type": "code",
   "execution_count": null,
   "id": "3c6c603e-6706-4744-8a7b-7f34efc0ef15",
   "metadata": {},
   "outputs": [],
   "source": []
  }
 ],
 "metadata": {
  "kernelspec": {
   "display_name": "Python",
   "language": "python",
   "name": "conda-env-python-py"
  },
  "language_info": {
   "codemirror_mode": {
    "name": "ipython",
    "version": 3
   },
   "file_extension": ".py",
   "mimetype": "text/x-python",
   "name": "python",
   "nbconvert_exporter": "python",
   "pygments_lexer": "ipython3",
   "version": "3.7.12"
  }
 },
 "nbformat": 4,
 "nbformat_minor": 5
}
